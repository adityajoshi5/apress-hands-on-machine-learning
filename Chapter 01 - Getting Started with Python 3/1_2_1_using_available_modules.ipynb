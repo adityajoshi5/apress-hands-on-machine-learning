{
  "nbformat": 4,
  "nbformat_minor": 0,
  "metadata": {
    "colab": {
      "name": "1_2_1_using_available_modules.ipynb",
      "provenance": [],
      "collapsed_sections": []
    },
    "kernelspec": {
      "name": "python3",
      "display_name": "Python 3"
    },
    "language_info": {
      "name": "python"
    }
  },
  "cells": [
    {
      "cell_type": "markdown",
      "source": [
        "# **What are modules in Python?**\n",
        "\n",
        "A module is simply a file that contains Python code. As our programs become larger and complex, then it should be broken down into modules such that each module  should contain functions that perform related tasks. Modules are the logical way to maintain code because of the following advantages:\n",
        "\n",
        "\n",
        "\n",
        "*   A module can be used in some other Python code with the help of 'Import'.Hence it provides code reusability.\n",
        "*   A module allows us to logically organise our python code, hence increases the maintainability of the code.\n",
        "\n",
        "\n",
        "*   Grouping related code in a module makes the code easier to understand and use.\n",
        "\n",
        "\n",
        "So to help the programmers in various tasks ,Python has some already built in modules, that we are going to explore in this notebook.\n",
        "\n",
        "\n",
        "\n",
        "\n",
        "\n"
      ],
      "metadata": {
        "id": "gZc9JfDH7QLZ"
      }
    },
    {
      "cell_type": "markdown",
      "source": [
        "# **How to use a built-in module?**\n",
        "\n",
        "In order to use a certain module, we need to 'Import' it first. 'Import' is a keyword in Python, that can be used to import the module.  It is the simplest and most\n",
        "common way to use modules in our code. It gives access to all attributes (like\n",
        "variables, constants, etc.) and methods present in the module.The syntax for import statement goes like this:\n",
        "\n",
        "***import < module_name >***\n",
        "\n",
        "\n",
        "\n",
        "Python’s from statement lets us import specific attributes or individual objects\n",
        "from a module into the current source file and the syntax is:\n",
        "\n",
        "***from < module_name > import <function_name(s)>***"
      ],
      "metadata": {
        "id": "UjKfOH4_KFt8"
      }
    },
    {
      "cell_type": "markdown",
      "source": [
        "# **Let's work with modules:**\n",
        "\n",
        "So in this notebook we are going to work with some of the most commonly used built-in modules of Python. So our workflow for this will be:\n",
        "\n",
        "\n",
        "*   About the module.\n",
        "*   Commonly used functions in that.\n",
        "\n",
        "\n",
        "\n"
      ],
      "metadata": {
        "id": "tpnw5eH8NrF5"
      }
    },
    {
      "cell_type": "markdown",
      "source": [
        "# **1. math module**\n",
        "\n",
        "Python math module is designed to help programmers to deal with the mathematical operations.\n"
      ],
      "metadata": {
        "id": "a9vcPVGTQ6C8"
      }
    },
    {
      "cell_type": "markdown",
      "source": [
        "Let's work with some math functions."
      ],
      "metadata": {
        "id": "qYrAmOaIiB3R"
      }
    },
    {
      "cell_type": "markdown",
      "source": [
        "NOTE: To make your task easier Jupyter notebook provides the auto complete feature that suggests all functions, attributes, parameters of a module or a function in a drop down. To avail this just type the module or function name with dot and press tab, a drop down will appear. Similarly in Google Colab you can avail this by typing module or function name with dot and wait for a few seconds."
      ],
      "metadata": {
        "id": "6ADPeDv_138R"
      }
    },
    {
      "cell_type": "code",
      "source": [
        "# Find factorials with factorial()\n",
        "\n",
        "import math        # Importing the module\n",
        "math.factorial(7)  # factorial() is the function and passing a positive integer to calculate the factorial"
      ],
      "metadata": {
        "colab": {
          "base_uri": "https://localhost:8080/"
        },
        "id": "L3MWTv2SiHSo",
        "outputId": "e7504f85-3807-4fbd-ec62-6db4a42e2768"
      },
      "execution_count": 1,
      "outputs": [
        {
          "output_type": "execute_result",
          "data": {
            "text/plain": [
              "5040"
            ]
          },
          "metadata": {},
          "execution_count": 1
        }
      ]
    },
    {
      "cell_type": "code",
      "source": [
        "# Calculate the power of a number with pow()\n",
        "\n",
        "math.pow(2,5)      # pow() will calculate the power where 2 is the base number and 5 is the power value"
      ],
      "metadata": {
        "id": "9jKuCK6HQCUw",
        "colab": {
          "base_uri": "https://localhost:8080/"
        },
        "outputId": "4000350c-72b4-4de3-acfb-c6fb30f6ce7d"
      },
      "execution_count": null,
      "outputs": [
        {
          "output_type": "execute_result",
          "data": {
            "text/plain": [
              "32.0"
            ]
          },
          "metadata": {},
          "execution_count": 3
        }
      ]
    },
    {
      "cell_type": "code",
      "source": [
        "# Find the natural exponent with exp()\n",
        "\n",
        "math.exp(21)"
      ],
      "metadata": {
        "colab": {
          "base_uri": "https://localhost:8080/"
        },
        "id": "i5ANz6D4nJxu",
        "outputId": "3807a036-0b1d-4caf-b502-b604b1a0978c"
      },
      "execution_count": null,
      "outputs": [
        {
          "output_type": "execute_result",
          "data": {
            "text/plain": [
              "1318815734.4832146"
            ]
          },
          "metadata": {},
          "execution_count": 4
        }
      ]
    },
    {
      "cell_type": "code",
      "source": [
        "# Find natural Log with log()\n",
        "\n",
        "math.log(4)"
      ],
      "metadata": {
        "colab": {
          "base_uri": "https://localhost:8080/"
        },
        "id": "0R0DjbtLozh2",
        "outputId": "c2e06186-1d73-4d9c-b482-e1a43e14cdbd"
      },
      "execution_count": null,
      "outputs": [
        {
          "output_type": "execute_result",
          "data": {
            "text/plain": [
              "1.3862943611198906"
            ]
          },
          "metadata": {},
          "execution_count": 5
        }
      ]
    },
    {
      "cell_type": "code",
      "source": [
        "# Calculate the Greatest Common Divisor with gcd()\n",
        "\n",
        "math.gcd(15,25)"
      ],
      "metadata": {
        "colab": {
          "base_uri": "https://localhost:8080/"
        },
        "id": "TZHy7pfapVRn",
        "outputId": "2e061936-9f8c-4c33-b049-1b3a09e74678"
      },
      "execution_count": null,
      "outputs": [
        {
          "output_type": "execute_result",
          "data": {
            "text/plain": [
              "5"
            ]
          },
          "metadata": {},
          "execution_count": 6
        }
      ]
    },
    {
      "cell_type": "markdown",
      "source": [
        "Lets's see some constants of math module."
      ],
      "metadata": {
        "id": "zkwtV3xLpf89"
      }
    },
    {
      "cell_type": "code",
      "source": [
        "math.pi # displaying pi value"
      ],
      "metadata": {
        "colab": {
          "base_uri": "https://localhost:8080/"
        },
        "id": "YX8D_BHxpk4-",
        "outputId": "7f7f114e-f93f-4b4b-b112-608a0ef589a4"
      },
      "execution_count": null,
      "outputs": [
        {
          "output_type": "execute_result",
          "data": {
            "text/plain": [
              "3.141592653589793"
            ]
          },
          "metadata": {},
          "execution_count": 7
        }
      ]
    },
    {
      "cell_type": "code",
      "source": [
        "math.tau # Tau (τ) is the ratio of a circle’s circumference to its radius"
      ],
      "metadata": {
        "colab": {
          "base_uri": "https://localhost:8080/"
        },
        "id": "dCAV2Mxup6RP",
        "outputId": "a4b92814-1002-447f-dce6-529c8e190ce9"
      },
      "execution_count": null,
      "outputs": [
        {
          "output_type": "execute_result",
          "data": {
            "text/plain": [
              "6.283185307179586"
            ]
          },
          "metadata": {},
          "execution_count": 8
        }
      ]
    },
    {
      "cell_type": "code",
      "source": [
        "math.e # Diaplaying Euler's number- Euler’s number (e) is a constant that is the base of the natural logarithm"
      ],
      "metadata": {
        "colab": {
          "base_uri": "https://localhost:8080/"
        },
        "id": "WZY1H2XHqHdI",
        "outputId": "2d4b1865-03e7-4f34-c371-24201815f0d4"
      },
      "execution_count": null,
      "outputs": [
        {
          "output_type": "execute_result",
          "data": {
            "text/plain": [
              "2.718281828459045"
            ]
          },
          "metadata": {},
          "execution_count": 9
        }
      ]
    },
    {
      "cell_type": "markdown",
      "source": [
        "# **2. Random Module**\n",
        "\n",
        "We can generate pseudo random variables using Python random module. It can be used perform some action randomly such as to get a random number, selecting a random elements from a list, shuffle elements randomly, etc."
      ],
      "metadata": {
        "id": "HBASSAzGqjBZ"
      }
    },
    {
      "cell_type": "markdown",
      "source": [
        "Let's see some examples."
      ],
      "metadata": {
        "id": "-Kw5zeNbvLMD"
      }
    },
    {
      "cell_type": "code",
      "source": [
        "import random  # Importing the random module\n",
        "\n",
        "random.random() # random() generates random floating numbers between 0.0 and 1.0"
      ],
      "metadata": {
        "colab": {
          "base_uri": "https://localhost:8080/"
        },
        "id": "Nr_eOnS7urzy",
        "outputId": "a07b7506-0971-4c78-c69f-f0e6208fbe56"
      },
      "execution_count": null,
      "outputs": [
        {
          "output_type": "execute_result",
          "data": {
            "text/plain": [
              "0.678048174195861"
            ]
          },
          "metadata": {},
          "execution_count": 10
        }
      ]
    },
    {
      "cell_type": "code",
      "source": [
        "random.randint(5,10) # randint() function will return a random integer between 5 and 10, \n",
        "                    # where 5 is the starting point and 10 is the ending point"
      ],
      "metadata": {
        "colab": {
          "base_uri": "https://localhost:8080/"
        },
        "id": "amTq6JXCvJgo",
        "outputId": "73fb52b5-af66-4373-f4f5-6d5998fb8524"
      },
      "execution_count": null,
      "outputs": [
        {
          "output_type": "execute_result",
          "data": {
            "text/plain": [
              "7"
            ]
          },
          "metadata": {},
          "execution_count": 13
        }
      ]
    },
    {
      "cell_type": "code",
      "source": [
        "random.randrange(0,100,20)  # In this example, we have specified start as 0, end as 100 and step as 20. \n",
        "                            # So randrange function will pick random from the range of these start, end and step."
      ],
      "metadata": {
        "colab": {
          "base_uri": "https://localhost:8080/"
        },
        "id": "wQ8QB2J4vyCl",
        "outputId": "29f8e74a-6a1c-4a93-c211-6f14fe8c39f2"
      },
      "execution_count": null,
      "outputs": [
        {
          "output_type": "execute_result",
          "data": {
            "text/plain": [
              "80"
            ]
          },
          "metadata": {},
          "execution_count": 18
        }
      ]
    },
    {
      "cell_type": "code",
      "source": [
        "list = [1,2,3,4,5] \n",
        "random.shuffle(list)  # shuffle() does the shuffling of the sequence that we passed into it\n",
        "list"
      ],
      "metadata": {
        "colab": {
          "base_uri": "https://localhost:8080/"
        },
        "id": "oGoN4fYowT-9",
        "outputId": "3195612d-a3c2-4911-9601-0a5f8daa9ad8"
      },
      "execution_count": null,
      "outputs": [
        {
          "output_type": "execute_result",
          "data": {
            "text/plain": [
              "[2, 3, 1, 5, 4]"
            ]
          },
          "metadata": {},
          "execution_count": 20
        }
      ]
    },
    {
      "cell_type": "code",
      "source": [
        "random.choice(\"John\") # choice() takes a single parameter, this parameter might be String or List or dictionary also, and it will return a random value from that parameter."
      ],
      "metadata": {
        "colab": {
          "base_uri": "https://localhost:8080/",
          "height": 36
        },
        "id": "mId24TEGw54s",
        "outputId": "7f1337f7-04f8-46ab-82a0-6e2f03d7fdf9"
      },
      "execution_count": null,
      "outputs": [
        {
          "output_type": "execute_result",
          "data": {
            "text/plain": [
              "'h'"
            ],
            "application/vnd.google.colaboratory.intrinsic+json": {
              "type": "string"
            }
          },
          "metadata": {},
          "execution_count": 22
        }
      ]
    },
    {
      "cell_type": "markdown",
      "source": [
        "# **3.OS Module**\n",
        "\n",
        "Python OS module helps to interact with the underlying operating system in different ways with the help of the given functions in that."
      ],
      "metadata": {
        "id": "6bqi0LrOJp7p"
      }
    },
    {
      "cell_type": "markdown",
      "source": [
        "Let's see some functions:"
      ],
      "metadata": {
        "id": "NCiDJMH9LM-4"
      }
    },
    {
      "cell_type": "code",
      "source": [
        "# Handling the current working directory.\n",
        "\n",
        "import os\n",
        "cwd=os.getcwd()\n",
        "print('Current working directory:',cwd)"
      ],
      "metadata": {
        "colab": {
          "base_uri": "https://localhost:8080/"
        },
        "id": "IWb0M9NyLPXV",
        "outputId": "c9634039-aec1-4c2b-e030-c24770b102d2"
      },
      "execution_count": null,
      "outputs": [
        {
          "output_type": "stream",
          "name": "stdout",
          "text": [
            "Current working directory: /content\n"
          ]
        }
      ]
    },
    {
      "cell_type": "code",
      "source": [
        "# Creating a directory in the current working directory with the mentioned name\n",
        "\n",
        "os.mkdir(\"data1\")\n"
      ],
      "metadata": {
        "id": "hTIl3_waMKFk"
      },
      "execution_count": null,
      "outputs": []
    },
    {
      "cell_type": "code",
      "source": [
        "# Change the name of the directory present in current working directory to the specified name\n",
        "\n",
        "os.rename('data','project1')"
      ],
      "metadata": {
        "id": "vxXf1WVmMoRK"
      },
      "execution_count": null,
      "outputs": []
    },
    {
      "cell_type": "code",
      "source": [
        "# Get the list of files in the directory mentioned using absolute path.\n",
        "# 'r' is used to make the path string as raw string because backslash is an escape character and it has different meanings.\n",
        "\n",
        "os.listdir(r'C:\\Users\\HP\\Downloads')"
      ],
      "metadata": {
        "colab": {
          "base_uri": "https://localhost:8080/"
        },
        "id": "6r5VhsRWNTKl",
        "outputId": "5cb0252a-a229-4360-a5a4-c02c77f0a7cb"
      },
      "execution_count": null,
      "outputs": [
        {
          "output_type": "execute_result",
          "data": {
            "text/plain": [
              "['.config', '\\\\content\\\\projects', 'sample_data']"
            ]
          },
          "metadata": {},
          "execution_count": 6
        }
      ]
    },
    {
      "cell_type": "code",
      "source": [
        "# Remove a directory.\n",
        "\n",
        "os.rmdir(r'C:\\Users\\HP\\Downloads\\project1')"
      ],
      "metadata": {
        "id": "KhQlsKY4OZL_"
      },
      "execution_count": null,
      "outputs": []
    }
  ]
}