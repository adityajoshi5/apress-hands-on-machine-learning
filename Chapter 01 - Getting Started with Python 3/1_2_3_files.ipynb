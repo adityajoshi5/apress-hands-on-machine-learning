{
 "cells": [
  {
   "cell_type": "markdown",
   "id": "3f1e1268",
   "metadata": {},
   "source": [
    "# File Operations in Python\n",
    "\n",
    "\n",
    "Python has it's own built-in function **open()** that takes in a file, opens it and returns a file object which can be used for read & write operations.\n",
    "\n",
    "#### open(file, mode='r', buffering=- 1, encoding=None, errors=None, newline=None, closefd=True, opener=None)\n",
    "\n",
    "- **file** is the pathname to the file (absolute or relative to the current working directory)\n",
    "\n",
    "- **mode** is an optional parameter that specifies the mode in which the file is opened. It defaults to 'r' which means open for reading in text mode.\n",
    "\n",
    "\n",
    "**Modes of operation**\n",
    "\n",
    "- x: This mode is used to create a file. This will throw an error if we try to create a file which already exists\n",
    "- r: This mode is used to read content from the file\n",
    "- w: This mode is used to write content to the file\n",
    "- a: This mode is used to add content to an existing file\n",
    "\n",
    "Just to make sure we won't forget what the different mode arguments do we will start by creating a file that tells us their different functionalities.\n",
    "\n",
    "***"
   ]
  },
  {
   "cell_type": "markdown",
   "id": "4111652a",
   "metadata": {},
   "source": [
    "### Writing content to a file\n",
    "\n",
    "Here we will make a file and call it open-modes.txt, then write the most common mode operations and what they do."
   ]
  },
  {
   "cell_type": "code",
   "execution_count": null,
   "id": "a0b2c1ed",
   "metadata": {},
   "outputs": [],
   "source": [
    "file = open('open-modes.txt','w')\n",
    "\n",
    "file.write('Character: Meaning \\n')\n",
    "file.write('r: open for reading (default) \\n')\n",
    "file.write('w: open for writing \\n')\n",
    "file.write('a: open for writing, appending to the end of file if it exists \\n')\n",
    "\n",
    "#When we are done with performing operations on the file, we need to properly close the file.\n",
    "#Closing a file will free up the resources that were tied with the file. It is done using the close() method available in Python.\n",
    "\n",
    "file.close()"
   ]
  },
  {
   "cell_type": "markdown",
   "id": "1ef1574d",
   "metadata": {},
   "source": [
    "### Reading content from a file\n",
    "\n",
    "A much better way to close a file is by using the with statement. This ensures that the file is closed when the block inside the with statement is exited.\n",
    "\n",
    "Then we don't need to explicitly call the close() method. It is done internally. \n",
    "Lets read our new file and see what's in it with **with**. (see what I did there?)"
   ]
  },
  {
   "cell_type": "code",
   "execution_count": null,
   "id": "5b3cb098",
   "metadata": {},
   "outputs": [],
   "source": [
    "with open('open-modes.txt','r') as f:\n",
    "    text = f.read()\n",
    "    print(text)"
   ]
  },
  {
   "cell_type": "markdown",
   "id": "43ff8429",
   "metadata": {},
   "source": [
    "**Great job! Looks good.**\n",
    "\n",
    "But you may see that we actually forgot to add the 'b' operation which returns a bytes-like object from a file, lets append that to our file!"
   ]
  },
  {
   "cell_type": "markdown",
   "id": "d4f84ddd",
   "metadata": {},
   "source": [
    "### Appending content"
   ]
  },
  {
   "cell_type": "code",
   "execution_count": null,
   "id": "d96c7bac",
   "metadata": {},
   "outputs": [],
   "source": [
    "with open('open-modes.txt','a') as f:\n",
    "    f.write('b: binary mode (returns bytes) \\n')"
   ]
  },
  {
   "cell_type": "code",
   "execution_count": null,
   "id": "15085ba9",
   "metadata": {},
   "outputs": [],
   "source": [
    "with open('open-modes.txt','r') as f:\n",
    "    text = f.read()\n",
    "    print(text)"
   ]
  },
  {
   "cell_type": "markdown",
   "id": "e47fa160",
   "metadata": {},
   "source": [
    "**Even better!**\n",
    "\n",
    "***"
   ]
  },
  {
   "cell_type": "markdown",
   "id": "5dae1c2e",
   "metadata": {},
   "source": [
    "## CSV module\n",
    "\n",
    "\n",
    "Text files are great but once you want to store tabular data with rows and columns, you are limited.\n",
    "\n",
    "That is why the the so-called **CSV or (Comma Separated Values)** format is the most common import and export format for spreadsheets and databases.\n",
    "\n",
    "#### Well first of all what even is a CSV file?\n",
    "A CSV file or (Comma Seperated Values file) is a delimited text file that uses a comma to seperate values. Each line of the file is a data record and each record consists of one or more fields, seperated by commas.\n",
    "\n",
    "The csv library comes to rescue here and provides classes to both read and write tabular data in CSV format.\n",
    "Let's see if we can improve our earlier **open-modes.txt** file with some better structure with a csv file."
   ]
  },
  {
   "cell_type": "markdown",
   "id": "86c4c045",
   "metadata": {},
   "source": [
    "We have two options when we want to write files with the csv module \n",
    "- **writer**: Returns a writer object responsible for converting the user’s data into delimited strings\n",
    "- **DictWriter**: Creates an object which operates like a regular writer but maps dictionaries onto output rows"
   ]
  },
  {
   "cell_type": "markdown",
   "id": "88399f12",
   "metadata": {},
   "source": [
    "### Writing content to a file with DictWriter"
   ]
  },
  {
   "cell_type": "code",
   "execution_count": null,
   "id": "845a8c16",
   "metadata": {},
   "outputs": [],
   "source": [
    "import csv\n",
    "\n",
    "with open('open-modes1.csv', 'w', newline='') as csvfile:\n",
    "    fieldnames = ['character', 'meaning']\n",
    "    writer = csv.DictWriter(csvfile, fieldnames=fieldnames)\n",
    "\n",
    "    writer.writeheader()\n",
    "    writer.writerow({'character': 'r', 'meaning': 'open for reading'})\n",
    "    writer.writerow({'character': 'w', 'meaning': 'open for writing'})\n",
    "    writer.writerow({'character': 'a', 'meaning': 'open for writing, appending to the end of file if it exists'})\n",
    "    writer.writerow({'character': 'b', 'meaning': 'binary mode (returns bytes)'})"
   ]
  },
  {
   "cell_type": "markdown",
   "id": "19a6545a",
   "metadata": {},
   "source": [
    "### Writing content to a file with Writer"
   ]
  },
  {
   "cell_type": "code",
   "execution_count": null,
   "id": "bd842756",
   "metadata": {},
   "outputs": [],
   "source": [
    "with open('open-modes2.csv', mode='w', newline=\"\\n\") as employee_file:\n",
    "    employee_writer = csv.writer(employee_file, delimiter=',')\n",
    "\n",
    "    employee_writer.writerow(['character', 'meaning'])\n",
    "    employee_writer.writerow(['r', 'open for reading'])\n",
    "    employee_writer.writerow(['w', 'open for writing'])\n",
    "    employee_writer.writerow(['a', 'open for writing, appending to the end of file if it exists'])\n",
    "    employee_writer.writerow(['b', 'binary mode (returns bytes)'])"
   ]
  },
  {
   "cell_type": "markdown",
   "id": "d9817a3a",
   "metadata": {},
   "source": [
    "### Reading content from a file\n",
    "\n",
    "As you can see below, the output for the files are identical, the only difference was our input where we mapped keys to values with the **DictWriter** method, and the **Writer** method used columns and rows.\n",
    "\n",
    "#### Which one do you prefer?"
   ]
  },
  {
   "cell_type": "code",
   "execution_count": null,
   "id": "168ff3ac",
   "metadata": {},
   "outputs": [],
   "source": [
    "with open('open-modes1.csv', newline='') as csvfile:\n",
    "    spamreader = csv.reader(csvfile, delimiter=',')\n",
    "    print(\"open-modes1.csv\")\n",
    "    for row in spamreader:\n",
    "         print(row)\n",
    "            \n",
    "print(\"\\n\")\n",
    "            \n",
    "with open('open-modes2.csv', newline='') as csvfile:\n",
    "    spamreader = csv.reader(csvfile, delimiter=',')\n",
    "    print(\"open-modes2.csv\")\n",
    "    for row in spamreader:\n",
    "         print(row)"
   ]
  },
  {
   "cell_type": "markdown",
   "id": "d0598154",
   "metadata": {},
   "source": [
    "***"
   ]
  }
 ],
 "metadata": {
  "interpreter": {
   "hash": "96493f976f0374da88465d9fde6b584b34f4f9e7e01baedd8cf04b830519b2ab"
  },
  "kernelspec": {
   "display_name": "Python 3 (ipykernel)",
   "language": "python",
   "name": "python3"
  },
  "language_info": {
   "codemirror_mode": {
    "name": "ipython",
    "version": 3
   },
   "file_extension": ".py",
   "mimetype": "text/x-python",
   "name": "python",
   "nbconvert_exporter": "python",
   "pygments_lexer": "ipython3",
   "version": "3.10.2"
  }
 },
 "nbformat": 4,
 "nbformat_minor": 5
}
