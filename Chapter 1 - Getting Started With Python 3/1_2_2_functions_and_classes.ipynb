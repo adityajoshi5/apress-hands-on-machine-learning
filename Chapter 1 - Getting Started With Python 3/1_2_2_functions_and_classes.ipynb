{
 "cells": [
  {
   "cell_type": "markdown",
   "metadata": {},
   "source": [
    "# <font color=orange> Let's Learn Funtions </font>"
   ]
  },
  {
   "cell_type": "markdown",
   "metadata": {},
   "source": [
    "The primary purpose of functions is to break up complicated computations into meaningful chunks and name them. \\\n",
    "*Source: [click me](https://en.wikipedia.org/wiki/Subroutine#cite_note-stroustrup-ch12-306-11)*\n",
    "\n",
    "\n",
    "\n",
    "In some programs, you may need to repeat a task. And you don't want to duplicate the code for the same task all over the place. To do so, you wrap the code in a function and call it whenever you need it."
   ]
  },
  {
   "cell_type": "markdown",
   "metadata": {},
   "source": [
    "##  Function Syntax :\n",
    "```\n",
    "def <function name>([parameters]):\n",
    "    '''Doc string'''\n",
    "    Logic/statements\n",
    "    ...\n",
    "    ...\n",
    "    return value/print(value)\n",
    "```\n",
    "**def** - marks the start of the function header.\\\n",
    "**function name** - a unique name to idenfity the function, this naming follows the same checklist we learnt in variable naming.\\\n",
    "**parameters/arguments** - used to pass a value to the function while calling. These are optional.\\\n",
    "**Doc String** - a short description about the function. This is optional.\\\n",
    "**Logic/statements** - one or more valid python statements to perform the required task.\\\n",
    "**return** - this will return a value from the funxtion. This is also Optional.\\\n",
    "**print** - to display a value from the fucntion. This is also Optional.\\\n",
    "\n",
    "**Note** - Proper Indentation should be maintained while writing Functions."
   ]
  },
  {
   "cell_type": "markdown",
   "metadata": {},
   "source": [
    "### Types of Functions: \n",
    "\n",
    "\n",
    "**Built-in Function:** Ex: print(), upper(), lower(), etc. \\\n",
    "**User-defined function:** Ex: Creating your own function"
   ]
  },
  {
   "cell_type": "markdown",
   "metadata": {},
   "source": [
    "### Task: Let's start with writing a simple Function"
   ]
  },
  {
   "cell_type": "code",
   "execution_count": 69,
   "metadata": {},
   "outputs": [],
   "source": [
    "#Defining a function:\n",
    "\n",
    "def display():\n",
    "    name = \"Open Source Data Science Learning\"\n",
    "    print(\"Heartiest Welcome to our\" + '\\033[1m', name) #'\\033[1m' to make text Bold"
   ]
  },
  {
   "cell_type": "code",
   "execution_count": 70,
   "metadata": {},
   "outputs": [
    {
     "name": "stdout",
     "output_type": "stream",
     "text": [
      "Heartiest Welcome to our\u001b[1m Open Source Data Science Learning\n"
     ]
    }
   ],
   "source": [
    "#Calling the above function\n",
    "\n",
    "display()"
   ]
  },
  {
   "cell_type": "markdown",
   "metadata": {},
   "source": [
    "### Task:  Build your own Simple Calculator"
   ]
  },
  {
   "cell_type": "code",
   "execution_count": 71,
   "metadata": {},
   "outputs": [],
   "source": [
    "#Defining multiple functions\n",
    "\n",
    "def add():\n",
    "    x = 30\n",
    "    y = 20\n",
    "    add_c = x + y\n",
    "    print(f\"Addition:\", add_c)\n",
    "    \n",
    "def sub():\n",
    "    x = 30\n",
    "    y = 20\n",
    "    sub_c = x - y\n",
    "    print(f\"Subtraction:\",sub_c)\n",
    "    \n",
    "def mul():\n",
    "    x = 30\n",
    "    y = 20\n",
    "    mul_c = x * y\n",
    "    print(f\"Multiple:\",mul_c)\n",
    "    \n",
    "def div():\n",
    "    x = 30\n",
    "    y = 20\n",
    "    div_c = x / y\n",
    "    print(f\"Division:\",div_c)\n",
    "    "
   ]
  },
  {
   "cell_type": "code",
   "execution_count": 72,
   "metadata": {},
   "outputs": [
    {
     "name": "stdout",
     "output_type": "stream",
     "text": [
      "Addition: 50\n",
      "Subtraction: 10\n",
      "Multiple: 600\n",
      "Division: 1.5\n"
     ]
    }
   ],
   "source": [
    "#Defining Calculator function and calling it simultaneously \n",
    "def calculator():\n",
    "    add()\n",
    "    sub()\n",
    "    mul()\n",
    "    div()\n",
    "\n",
    "calculator()"
   ]
  },
  {
   "cell_type": "markdown",
   "metadata": {},
   "source": [
    "### Let's play with Argument and Parameter and modify Simple Calculator"
   ]
  },
  {
   "cell_type": "code",
   "execution_count": 73,
   "metadata": {},
   "outputs": [],
   "source": [
    "#Modifying the above Simple Calculator with Arguments\n",
    "\n",
    "def add(x, y):\n",
    "    add_c = x + y\n",
    "    print(f\"Addition:\", add_c)\n",
    "    \n",
    "def sub(x, y):  #Default parameter: Here y will be always 10\n",
    "    sub_c = x - y\n",
    "    print(f\"Subtraction:\",sub_c)\n",
    "    \n",
    "def mul(x, y):\n",
    "    mul_c = x * y\n",
    "    print(f\"Multiple:\",mul_c)\n",
    "    \n",
    "def div(x, y):\n",
    "    div_c = x / y\n",
    "    print(f\"Division:\",div_c)"
   ]
  },
  {
   "cell_type": "code",
   "execution_count": 74,
   "metadata": {},
   "outputs": [
    {
     "name": "stdout",
     "output_type": "stream",
     "text": [
      "enter the first number:30\n",
      "enter the second number:20\n"
     ]
    }
   ],
   "source": [
    "#Take input from users\n",
    "\n",
    "x =int(input(\"enter the first number:\"))\n",
    "y =int(input(\"enter the second number:\"))\n"
   ]
  },
  {
   "cell_type": "code",
   "execution_count": 75,
   "metadata": {},
   "outputs": [
    {
     "name": "stdout",
     "output_type": "stream",
     "text": [
      "Addition: 50\n",
      "Subtraction: 20\n",
      "Multiple: 600\n",
      "Division: 1.5\n"
     ]
    }
   ],
   "source": [
    "#Defining Calculator function and calling the sub-functions by passing the parameters\n",
    "\n",
    "def calculator():\n",
    "    add(x, y)\n",
    "    sub(x, y=10) #Default argument with y=10\n",
    "    mul(x, y)\n",
    "    div(x, y)\n",
    "\n",
    "calculator()"
   ]
  },
  {
   "cell_type": "markdown",
   "metadata": {},
   "source": [
    "### Let's write an interesting Function that will cover Loops and conditional statements which we learnt before.\n",
    "\n",
    "#### Task: Find all the words ending or starting with particular letter in string - This can be helpful in NLP use case"
   ]
  },
  {
   "cell_type": "code",
   "execution_count": 76,
   "metadata": {},
   "outputs": [
    {
     "data": {
      "text/plain": [
       "'The contributors present in the OSDS project are Sandeep Gabriel Surbhi Betsy Mahmud for Project one'"
      ]
     },
     "execution_count": 76,
     "metadata": {},
     "output_type": "execute_result"
    }
   ],
   "source": [
    "list_of_words = [\"Sandeep\", \"Gabriel\", \"Surbhi\", \"Betsy\", \"Mahmud\"]\n",
    "mystr = \"The contributors present in the OSDS project are \"+\" \".join(list_of_words)+\" for Project one\"\n",
    "mystr"
   ]
  },
  {
   "cell_type": "code",
   "execution_count": 77,
   "metadata": {},
   "outputs": [
    {
     "data": {
      "text/plain": [
       "{'t': {'present', 'project', 'the'},\n",
       " 'e': {'are', 'one', 'the'},\n",
       " 'c': {'contributors'},\n",
       " 's': {'contributors', 'osds', 'sandeep', 'surbhi'},\n",
       " 'p': {'present', 'project', 'sandeep'},\n",
       " 'i': {'in', 'surbhi'},\n",
       " 'n': {'in'},\n",
       " 'o': {'one', 'osds'},\n",
       " 'a': {'are'},\n",
       " 'g': {'gabriel'},\n",
       " 'l': {'gabriel'},\n",
       " 'b': {'betsy'},\n",
       " 'y': {'betsy'},\n",
       " 'm': {'mahmud'},\n",
       " 'd': {'mahmud'},\n",
       " 'f': {'for'},\n",
       " 'r': {'for'}}"
      ]
     },
     "execution_count": 77,
     "metadata": {},
     "output_type": "execute_result"
    }
   ],
   "source": [
    "#Taking all the strings from above 'mystr' variable and passing it below\n",
    "\n",
    "all_words = mystr.split(\" \") #Split all the words from mystr\n",
    "\n",
    "word_col = dict() #Collect all the words\n",
    "\n",
    "for word in all_words: #passing through all the words and storing first and last letters\n",
    "    word = word.lower() #Making all the words in lower case -  Using Build-in Function \"lower()\"\n",
    "    starting_letter = word[0]\n",
    "    ending_letter = word[-1]\n",
    "    \n",
    "    if starting_letter not in word_col: #Writing conditional statement to check the criteria\n",
    "        word_col[starting_letter] = set()\n",
    "    if ending_letter not in word_col:\n",
    "        word_col[ending_letter] = set()\n",
    "    word_col[starting_letter].add(word) #Storing the words that matches\n",
    "    word_col[ending_letter].add(word)\n",
    "\n",
    "word_col"
   ]
  },
  {
   "cell_type": "markdown",
   "metadata": {},
   "source": [
    "### Now make your Hand dirty with `*args` and `**kwargs`\n",
    "\n",
    "When we are unsure about the number of arguments to pass into the functions, we use `*args` and `**kwargs` as arguments.\n",
    "\n",
    "**Task: Addition of numbers by passing variables arguments values**"
   ]
  },
  {
   "cell_type": "code",
   "execution_count": 78,
   "metadata": {},
   "outputs": [
    {
     "name": "stdout",
     "output_type": "stream",
     "text": [
      "Addition of Argument 2 is 3\n",
      "Addition of Argument 3 is 6\n",
      "Addition of Argument 4 is 10\n"
     ]
    }
   ],
   "source": [
    "# single '*' denotes that it is args and we can observe that we can pass different no of arguments\n",
    "\n",
    "def addition(*num): \n",
    "    add = 0\n",
    "    \n",
    "    for i in num:\n",
    "        add = add + i\n",
    "\n",
    "    return(print(\"Addition of Argument\",i,\"is\", add)) #Usage of return keyword to return the end result\n",
    "\n",
    "addition(1,2)\n",
    "addition(1,2,3)\n",
    "addition(1,2,3,4)"
   ]
  },
  {
   "cell_type": "markdown",
   "metadata": {},
   "source": [
    "**Let's roll into Another Example**\n",
    "\n",
    "**Task: Function using `*args` to see your recent online ordered products**\n",
    "\n",
    "Function with use of *args to pass the variable length arguments to the function."
   ]
  },
  {
   "cell_type": "code",
   "execution_count": 79,
   "metadata": {},
   "outputs": [
    {
     "name": "stdout",
     "output_type": "stream",
     "text": [
      "Your recent ordered item is: MacBook Air\n",
      "Your recent ordered item is: Samsung Tablet S8\n",
      "Your recent ordered item is: Samsung Smart Watch 4\n"
     ]
    }
   ],
   "source": [
    "def online_order_del(*myorders):\n",
    "    for order in myorders:\n",
    "        print (\"Your recent ordered item is: \"+order)\n",
    "    \n",
    "online_order_del(\"MacBook Air\", \"Samsung Tablet S8\", \"Samsung Smart Watch 4\")\n"
   ]
  },
  {
   "cell_type": "markdown",
   "metadata": {},
   "source": [
    "**Task: Function using `*kwargs` to see your recent ordered products delivery days**\n",
    "\n",
    "Function with use of **kwargs to pass the variable keyword arguments to the function."
   ]
  },
  {
   "cell_type": "code",
   "execution_count": 80,
   "metadata": {},
   "outputs": [
    {
     "name": "stdout",
     "output_type": "stream",
     "text": [
      "The item MacBook Air has been delivered on DayBeforeYesterday\n",
      "The item Samsung Tablet S8 has been delivered on Yesterday\n",
      "The item Samsung Smart Watch 4 has been delivered on Today\n",
      "\n",
      " \u001b[1m Thank you for ordering these many items.... Check your Email for the suprise gift....\n"
     ]
    }
   ],
   "source": [
    "def online_order_del_day(**myorders):\n",
    "    for order in myorders:\n",
    "        print (\"The item {} has been delivered on {}\".format(myorders[order], order))\n",
    "\n",
    "online_order_del_day(DayBeforeYesterday = \"MacBook Air\", Yesterday=\"Samsung Tablet S8\", Today=\"Samsung Smart Watch 4\")\n",
    "\n",
    "print(\"\\n \\033[1m Thank you for ordering these many items.... Check your Email for the suprise gift....\")"
   ]
  },
  {
   "cell_type": "markdown",
   "metadata": {},
   "source": [
    "***"
   ]
  },
  {
   "cell_type": "markdown",
   "metadata": {},
   "source": [
    "# <font color=orange>Now it's time for Classes and Objects</font>"
   ]
  },
  {
   "cell_type": "markdown",
   "metadata": {},
   "source": [
    "A class is a user-defined blueprint that is used to create objects. A Python class consist of attributes and methods. \\\n",
    "Attributes are defined by variables that contains the data and Methods serve the same task as functions, as demonstrated above."
   ]
  },
  {
   "cell_type": "markdown",
   "metadata": {},
   "source": [
    "## Structure of a class:\n",
    "```\n",
    "class class_name(object):\n",
    "    def __init__(self):\n",
    "        self.variable_name = value\n",
    "    def method_name(self):\n",
    "        Body of Method\n",
    "```\n",
    "\n",
    "**class** - It is a keyword that is used to define a class. \\\n",
    "**object** - Here, object denotes the base class name from which all other classes are derived. \\\n",
    "**\\_\\_init\\_\\_()**  - This is a special method (constructor) which is used to initialize the variables. \\\n",
    "**self** - self refers to a variable which points to the current class instance.\n",
    "\n",
    "**Note:** Like every programming language, python is also a Object-Oriented programming language. That holds the OOPs properties like Encapsulation, Abstraction, Inheritance and Polymorphism.\n",
    "\n"
   ]
  },
  {
   "cell_type": "markdown",
   "metadata": {},
   "source": [
    "**Task:** Creating a simple class and function to check product order details"
   ]
  },
  {
   "cell_type": "code",
   "execution_count": 81,
   "metadata": {},
   "outputs": [],
   "source": [
    "class OnlineShopping:\n",
    "    def __init__(self, m):\n",
    "        self.product = m\n",
    "        \n",
    "    def order_item(self,p):\n",
    "        price = p\n",
    "        print(\"Product Name:\", self.product, \"\\nPrice of Product:\", price)\n",
    "        "
   ]
  },
  {
   "cell_type": "markdown",
   "metadata": {},
   "source": [
    "***Object*** - An Object is an instance of a Class. A class is like a blueprint while an instance is a copy of the class with actual values. To use a class, we must create an sobject for the class."
   ]
  },
  {
   "cell_type": "markdown",
   "metadata": {},
   "source": [
    "**Task:** Creating an object to initialize the above class"
   ]
  },
  {
   "cell_type": "code",
   "execution_count": 82,
   "metadata": {},
   "outputs": [
    {
     "name": "stdout",
     "output_type": "stream",
     "text": [
      "Product Name: Samsung Ear Buds \n",
      "Price of Product: $120\n"
     ]
    }
   ],
   "source": [
    "amazon = OnlineShopping(\"Samsung Ear Buds\") # Here amazon is an object\n",
    "amazon.order_item('$120') #with help object amazon, we can call our function order_item()"
   ]
  },
  {
   "cell_type": "markdown",
   "metadata": {},
   "source": [
    "**Task:** To calculate employee age from the Date of Birth"
   ]
  },
  {
   "cell_type": "code",
   "execution_count": 83,
   "metadata": {},
   "outputs": [],
   "source": [
    "import datetime #using datetime library to calculate the age of the employee\n",
    "\n",
    "class Employee():\n",
    "  def __init__(self, name, dob, number):\n",
    "    self.ename = name\n",
    "    self.edob = dob\n",
    "    self.enumber = number\n",
    "\n",
    "  def age_display(self):\n",
    "    current_date = datetime.datetime.now().date()\n",
    "    employee_dob = datetime.datetime.strptime(self.edob, \"%m/%d/%y\").date()\n",
    "\n",
    "    diff = current_date - employee_dob\n",
    "    age = int(diff.days/365)\n",
    "    return age"
   ]
  },
  {
   "cell_type": "markdown",
   "metadata": {},
   "source": [
    "Creating an instance for the class Employee and calling \\_\\_init\\_\\_() and user_defined function"
   ]
  },
  {
   "cell_type": "code",
   "execution_count": 84,
   "metadata": {},
   "outputs": [
    {
     "name": "stdout",
     "output_type": "stream",
     "text": [
      "<class '__main__.Employee'>\n",
      "Employee Name:  Lucas \n",
      "Employee DOB: 01/01/96 \n",
      "Employee Phone no: 90908080\n",
      "Employee Age:  26\n"
     ]
    }
   ],
   "source": [
    "emp = Employee(\"Lucas\", \"01/01/96\", \"90908080\")\n",
    "print(type(emp)) #To check the type\n",
    "print(f\"Employee Name: \", emp.ename, \"\\nEmployee DOB:\" , emp.edob, \"\\nEmployee Phone no:\", emp.enumber)\n",
    "print(f\"Employee Age: \", emp.age_display())"
   ]
  },
  {
   "cell_type": "code",
   "execution_count": null,
   "metadata": {},
   "outputs": [],
   "source": []
  }
 ],
 "metadata": {
  "kernelspec": {
   "display_name": "Python 3.10.2 32-bit",
   "language": "python",
   "name": "python3"
  },
  "language_info": {
   "codemirror_mode": {
    "name": "ipython",
    "version": 3
   },
   "file_extension": ".py",
   "mimetype": "text/x-python",
   "name": "python",
   "nbconvert_exporter": "python",
   "pygments_lexer": "ipython3",
   "version": "3.10.2"
  },
  "vscode": {
   "interpreter": {
    "hash": "96493f976f0374da88465d9fde6b584b34f4f9e7e01baedd8cf04b830519b2ab"
   }
  }
 },
 "nbformat": 4,
 "nbformat_minor": 4
}
